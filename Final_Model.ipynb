{
 "cells": [
  {
   "cell_type": "code",
   "execution_count": 2,
   "metadata": {},
   "outputs": [],
   "source": [
    "from sklearn.metrics import confusion_matrix , classification_report\n",
    "import numpy as np \n",
    "import pandas as pd \n",
    "import matplotlib.pyplot as plt\n",
    "import cv2\n",
    "import tensorflow as tf\n",
    "from PIL import Image\n",
    "import os\n",
    "os.chdir('E:/cnn')\n",
    "from sklearn.model_selection import train_test_split\n",
    "from keras.utils import to_categorical\n",
    "from keras.models import Sequential, load_model\n",
    "from keras.layers import Conv2D, MaxPool2D, Dense, Flatten, Dropout"
   ]
  },
  {
   "cell_type": "code",
   "execution_count": 3,
   "metadata": {},
   "outputs": [],
   "source": [
    "data = []\n",
    "labels = []\n",
    "# We have 43 Classes\n",
    "classes = 43\n",
    "cur_path = os.getcwd()"
   ]
  },
  {
   "cell_type": "code",
   "execution_count": 4,
   "metadata": {},
   "outputs": [
    {
     "data": {
      "text/plain": [
       "'E:\\\\cnn'"
      ]
     },
     "execution_count": 4,
     "metadata": {},
     "output_type": "execute_result"
    }
   ],
   "source": [
    "cur_path"
   ]
  },
  {
   "cell_type": "code",
   "execution_count": 4,
   "metadata": {},
   "outputs": [],
   "source": [
    "for i in range(classes):\n",
    "    path = os.path.join(cur_path,'train',str(i))\n",
    "    images = os.listdir(path)\n",
    "    for a in images:\n",
    "        try:\n",
    "            image = Image.open(path + '\\\\'+ a)\n",
    "            image = image.resize((30,30))\n",
    "            image = np.array(image)\n",
    "            data.append(image)\n",
    "            labels.append(i)\n",
    "        except Exception as e:\n",
    "            print(e)"
   ]
  },
  {
   "cell_type": "code",
   "execution_count": 5,
   "metadata": {},
   "outputs": [],
   "source": [
    "data = np.array(data)\n",
    "labels = np.array(labels)"
   ]
  },
  {
   "cell_type": "code",
   "execution_count": 6,
   "metadata": {},
   "outputs": [],
   "source": [
    "# os.mkdir('training')\n",
    "\n",
    "np.save('/data',data)\n",
    "np.save('/target',labels)"
   ]
  },
  {
   "cell_type": "code",
   "execution_count": 7,
   "metadata": {},
   "outputs": [],
   "source": [
    "data=np.load('/data.npy')\n",
    "labels=np.load('/target.npy')"
   ]
  },
  {
   "cell_type": "code",
   "execution_count": 8,
   "metadata": {},
   "outputs": [
    {
     "name": "stdout",
     "output_type": "stream",
     "text": [
      "(39209, 30, 30, 3) (39209,)\n"
     ]
    }
   ],
   "source": [
    "print(data.shape, labels.shape)"
   ]
  },
  {
   "cell_type": "code",
   "execution_count": 9,
   "metadata": {},
   "outputs": [],
   "source": [
    "X_train, X_test, y_train, y_test = train_test_split(data, labels, test_size=0.2, random_state=0)"
   ]
  },
  {
   "cell_type": "code",
   "execution_count": 10,
   "metadata": {},
   "outputs": [
    {
     "name": "stdout",
     "output_type": "stream",
     "text": [
      "(31367, 30, 30, 3) (7842, 30, 30, 3) (31367,) (7842,)\n"
     ]
    }
   ],
   "source": [
    "print(X_train.shape, X_test.shape, y_train.shape, y_test.shape)"
   ]
  },
  {
   "cell_type": "code",
   "execution_count": 11,
   "metadata": {},
   "outputs": [],
   "source": [
    "y_train = to_categorical(y_train, 43)\n",
    "y_test = to_categorical(y_test, 43)"
   ]
  },
  {
   "cell_type": "code",
   "execution_count": 12,
   "metadata": {},
   "outputs": [],
   "source": [
    "model = Sequential()\n",
    "model.add(Conv2D(filters=32, kernel_size=(5,5), activation='relu', input_shape=X_train.shape[1:]))\n",
    "model.add(Conv2D(filters=32, kernel_size=(5,5), activation='relu'))\n",
    "model.add(MaxPool2D(pool_size=(2, 2)))\n",
    "model.add(Dropout(rate=0.25))\n",
    "model.add(Conv2D(filters=64, kernel_size=(3, 3), activation='relu'))\n",
    "model.add(Conv2D(filters=64, kernel_size=(3, 3), activation='relu'))\n",
    "model.add(MaxPool2D(pool_size=(2, 2)))\n",
    "model.add(Dropout(rate=0.25))\n",
    "model.add(Flatten())\n",
    "model.add(Dense(256, activation='relu'))\n",
    "model.add(Dropout(rate=0.5))\n",
    "# We have 43 classes that's why we have defined 43 in the dense\n",
    "model.add(Dense(43, activation='softmax'))"
   ]
  },
  {
   "cell_type": "code",
   "execution_count": 13,
   "metadata": {},
   "outputs": [],
   "source": [
    "#Compilation of the model\n",
    "model.compile(loss='categorical_crossentropy', optimizer='adam', metrics=['accuracy'])\n",
    "tb_callback = tf.keras.callbacks.TensorBoard(log_dir=\"logs/\", histogram_freq=1)"
   ]
  },
  {
   "cell_type": "code",
   "execution_count": 14,
   "metadata": {},
   "outputs": [
    {
     "name": "stdout",
     "output_type": "stream",
     "text": [
      "Epoch 1/20\n",
      "  1/981 [..............................] - ETA: 0s - loss: 53.5177 - accuracy: 0.0312WARNING:tensorflow:From D:\\Anaconda\\lib\\site-packages\\tensorflow\\python\\ops\\summary_ops_v2.py:1277: stop (from tensorflow.python.eager.profiler) is deprecated and will be removed after 2020-07-01.\n",
      "Instructions for updating:\n",
      "use `tf.profiler.experimental.stop` instead.\n",
      "  2/981 [..............................] - ETA: 5:45 - loss: 38.0193 - accuracy: 0.0156WARNING:tensorflow:Callbacks method `on_train_batch_end` is slow compared to the batch time (batch time: 0.1577s vs `on_train_batch_end` time: 0.5464s). Check your callbacks.\n",
      "981/981 [==============================] - 100s 102ms/step - loss: 1.7232 - accuracy: 0.5674 - val_loss: 0.2834 - val_accuracy: 0.9277\n",
      "Epoch 2/20\n",
      "981/981 [==============================] - 95s 97ms/step - loss: 0.4434 - accuracy: 0.8731 - val_loss: 0.1171 - val_accuracy: 0.9691\n",
      "Epoch 3/20\n",
      "981/981 [==============================] - 93s 95ms/step - loss: 0.2832 - accuracy: 0.9212 - val_loss: 0.0935 - val_accuracy: 0.9751\n",
      "Epoch 4/20\n",
      "981/981 [==============================] - 95s 97ms/step - loss: 0.2398 - accuracy: 0.9329 - val_loss: 0.1082 - val_accuracy: 0.9760\n",
      "Epoch 5/20\n",
      "981/981 [==============================] - 92s 94ms/step - loss: 0.2279 - accuracy: 0.9373 - val_loss: 0.0719 - val_accuracy: 0.9839\n",
      "Epoch 6/20\n",
      "981/981 [==============================] - 92s 94ms/step - loss: 0.1920 - accuracy: 0.9485 - val_loss: 0.0511 - val_accuracy: 0.9883\n",
      "Epoch 7/20\n",
      "981/981 [==============================] - 92s 94ms/step - loss: 0.1917 - accuracy: 0.9491 - val_loss: 0.0782 - val_accuracy: 0.9810\n",
      "Epoch 8/20\n",
      "981/981 [==============================] - 95s 97ms/step - loss: 0.2120 - accuracy: 0.9456 - val_loss: 0.0789 - val_accuracy: 0.9790\n",
      "Epoch 9/20\n",
      "981/981 [==============================] - 97s 99ms/step - loss: 0.1613 - accuracy: 0.9586 - val_loss: 0.0559 - val_accuracy: 0.9843\n",
      "Epoch 10/20\n",
      "981/981 [==============================] - 85s 87ms/step - loss: 0.1824 - accuracy: 0.9543 - val_loss: 0.0480 - val_accuracy: 0.9885\n",
      "Epoch 11/20\n",
      "981/981 [==============================] - 73s 75ms/step - loss: 0.2100 - accuracy: 0.9493 - val_loss: 0.0626 - val_accuracy: 0.9843\n",
      "Epoch 12/20\n",
      "981/981 [==============================] - 73s 75ms/step - loss: 0.1891 - accuracy: 0.9540 - val_loss: 0.0485 - val_accuracy: 0.9884\n",
      "Epoch 13/20\n",
      "981/981 [==============================] - 72s 74ms/step - loss: 0.2247 - accuracy: 0.9478 - val_loss: 0.0633 - val_accuracy: 0.9846\n",
      "Epoch 14/20\n",
      "981/981 [==============================] - 75s 76ms/step - loss: 0.1699 - accuracy: 0.9590 - val_loss: 0.0392 - val_accuracy: 0.9903\n",
      "Epoch 15/20\n",
      "981/981 [==============================] - 66s 68ms/step - loss: 0.1881 - accuracy: 0.9548 - val_loss: 0.0450 - val_accuracy: 0.9894\n",
      "Epoch 16/20\n",
      "981/981 [==============================] - 66s 67ms/step - loss: 0.1993 - accuracy: 0.9547 - val_loss: 0.0728 - val_accuracy: 0.9810\n",
      "Epoch 17/20\n",
      "981/981 [==============================] - 70s 71ms/step - loss: 0.1784 - accuracy: 0.9585 - val_loss: 0.0414 - val_accuracy: 0.9895\n",
      "Epoch 18/20\n",
      "981/981 [==============================] - 68s 69ms/step - loss: 0.1991 - accuracy: 0.9561 - val_loss: 0.0603 - val_accuracy: 0.9881\n",
      "Epoch 19/20\n",
      "981/981 [==============================] - 68s 69ms/step - loss: 0.2085 - accuracy: 0.9548 - val_loss: 0.0722 - val_accuracy: 0.9811\n",
      "Epoch 20/20\n",
      "981/981 [==============================] - 70s 72ms/step - loss: 0.2303 - accuracy: 0.9507 - val_loss: 0.0477 - val_accuracy: 0.9888\n"
     ]
    }
   ],
   "source": [
    "epochs = 20\n",
    "history = model.fit(X_train, y_train, batch_size=32, epochs=epochs, validation_data=(X_test, y_test),callbacks=[tb_callback])"
   ]
  },
  {
   "cell_type": "code",
   "execution_count": 15,
   "metadata": {},
   "outputs": [
    {
     "data": {
      "image/png": "[encoded data removed]",
      "text/plain": [
       "<Figure size 432x288 with 1 Axes>"
      ]
     },
     "metadata": {
      "needs_background": "light"
     },
     "output_type": "display_data"
    }
   ],
   "source": [
    "# accuracy \n",
    "plt.figure(0)\n",
    "plt.plot(history.history['accuracy'], label='training accuracy')\n",
    "plt.plot(history.history['val_accuracy'], label='val accuracy')\n",
    "plt.title('Accuracy')\n",
    "plt.xlabel('epochs')\n",
    "plt.ylabel('accuracy')\n",
    "plt.legend()\n",
    "plt.show()"
   ]
  },
  {
   "cell_type": "code",
   "execution_count": 16,
   "metadata": {},
   "outputs": [
    {
     "data": {
      "image/png": "[encoded data removed]",
      "text/plain": [
       "<Figure size 432x288 with 1 Axes>"
      ]
     },
     "metadata": {
      "needs_background": "light"
     },
     "output_type": "display_data"
    }
   ],
   "source": [
    "# Loss\n",
    "plt.plot(history.history['loss'], label='training loss')\n",
    "plt.plot(history.history['val_loss'], label='val loss')\n",
    "plt.title('Loss')\n",
    "plt.xlabel('epochs')\n",
    "plt.ylabel('loss')\n",
    "plt.legend()\n",
    "plt.show()"
   ]
  },
  {
   "cell_type": "code",
   "execution_count": 17,
   "metadata": {},
   "outputs": [],
   "source": [
    "def testing(testcsv):\n",
    "    y_test = pd.read_csv(testcsv)\n",
    "    label = y_test[\"ClassId\"].values\n",
    "    imgs = y_test[\"Path\"].values\n",
    "    data=[]\n",
    "    for img in imgs:\n",
    "        image = Image.open(img)\n",
    "        image = image.resize((30,30))\n",
    "        data.append(np.array(image))\n",
    "    X_test=np.array(data)\n",
    "    return X_test,label"
   ]
  },
  {
   "cell_type": "code",
   "execution_count": 18,
   "metadata": {},
   "outputs": [],
   "source": [
    "X_test, label = testing('Test.csv')"
   ]
  },
  {
   "cell_type": "code",
   "execution_count": 19,
   "metadata": {},
   "outputs": [
    {
     "name": "stdout",
     "output_type": "stream",
     "text": [
      "WARNING:tensorflow:From <ipython-input-19-abd0b9b99a1f>:1: Sequential.predict_classes (from tensorflow.python.keras.engine.sequential) is deprecated and will be removed after 2021-01-01.\n",
      "Instructions for updating:\n",
      "Please use instead:* `np.argmax(model.predict(x), axis=-1)`,   if your model does multi-class classification   (e.g. if it uses a `softmax` last-layer activation).* `(model.predict(x) > 0.5).astype(\"int32\")`,   if your model does binary classification   (e.g. if it uses a `sigmoid` last-layer activation).\n"
     ]
    },
    {
     "data": {
      "text/plain": [
       "array([16,  1, 38, ...,  3,  7, 10], dtype=int64)"
      ]
     },
     "execution_count": 19,
     "metadata": {},
     "output_type": "execute_result"
    }
   ],
   "source": [
    "Y_pred = model.predict_classes(X_test)\n",
    "Y_pred"
   ]
  },
  {
   "cell_type": "code",
   "execution_count": 20,
   "metadata": {},
   "outputs": [
    {
     "name": "stdout",
     "output_type": "stream",
     "text": [
      "0.9625494853523358\n"
     ]
    }
   ],
   "source": [
    "from sklearn.metrics import accuracy_score\n",
    "print(accuracy_score(label, Y_pred))"
   ]
  },
  {
   "cell_type": "code",
   "execution_count": 21,
   "metadata": {},
   "outputs": [],
   "source": [
    "model.save(\"/TSR.h5\")"
   ]
  },
  {
   "cell_type": "code",
   "execution_count": 22,
   "metadata": {},
   "outputs": [],
   "source": [
    "import os\n",
    "os.chdir(r'D:\\Image Classification')\n",
    "from keras.models import load_model\n",
    "model = load_model('/TSR.h5')"
   ]
  },
  {
   "cell_type": "code",
   "execution_count": 23,
   "metadata": {},
   "outputs": [],
   "source": [
    "# Classes of trafic signs\n",
    "classes = { 0:'Speed limit (20km/h)',\n",
    "            1:'Speed limit (30km/h)', \n",
    "            2:'Speed limit (50km/h)', \n",
    "            3:'Speed limit (60km/h)', \n",
    "            4:'Speed limit (70km/h)', \n",
    "            5:'Speed limit (80km/h)', \n",
    "            6:'End of speed limit (80km/h)', \n",
    "            7:'Speed limit (100km/h)', \n",
    "            8:'Speed limit (120km/h)', \n",
    "            9:'No passing', \n",
    "            10:'No passing veh over 3.5 tons', \n",
    "            11:'Right-of-way at intersection', \n",
    "            12:'Priority road', \n",
    "            13:'Yield', \n",
    "            14:'Stop', \n",
    "            15:'No vehicles', \n",
    "            16:'Veh > 3.5 tons prohibited', \n",
    "            17:'No entry', \n",
    "            18:'General caution', \n",
    "            19:'Dangerous curve left', \n",
    "            20:'Dangerous curve right', \n",
    "            21:'Double curve', \n",
    "            22:'Bumpy road', \n",
    "            23:'Slippery road', \n",
    "            24:'Road narrows on the right', \n",
    "            25:'Road work', \n",
    "            26:'Traffic signals', \n",
    "            27:'Pedestrians', \n",
    "            28:'Children crossing', \n",
    "            29:'Bicycles crossing', \n",
    "            30:'Beware of ice/snow',\n",
    "            31:'Wild animals crossing', \n",
    "            32:'End speed + passing limits', \n",
    "            33:'Turn right ahead', \n",
    "            34:'Turn left ahead', \n",
    "            35:'Ahead only', \n",
    "            36:'Go straight or right', \n",
    "            37:'Go straight or left', \n",
    "            38:'Keep right', \n",
    "            39:'Keep left', \n",
    "            40:'Roundabout mandatory', \n",
    "            41:'End of no passing', \n",
    "            42:'End no passing veh > 3.5 tons'\n",
    "          }"
   ]
  },
  {
   "cell_type": "code",
   "execution_count": 24,
   "metadata": {},
   "outputs": [],
   "source": [
    "from PIL import Image\n",
    "import numpy as np\n",
    "import matplotlib.pyplot as plt\n",
    "def test_on_img(img):\n",
    "    data=[]\n",
    "    image = Image.open(img)\n",
    "    image = image.resize((30,30))\n",
    "    data.append(np.array(image))\n",
    "    X_test=np.array(data)\n",
    "    Y_pred = model.predict_classes(X_test)\n",
    "    return image,Y_pred"
   ]
  },
  {
   "cell_type": "code",
   "execution_count": 25,
   "metadata": {},
   "outputs": [
    {
     "name": "stdout",
     "output_type": "stream",
     "text": [
      "Predicted traffic sign is:  Bumpy road\n"
     ]
    },
    {
     "data": {
      "image/png": "[encoded data removed]",
      "text/plain": [
       "<Figure size 432x288 with 1 Axes>"
      ]
     },
     "metadata": {
      "needs_background": "light"
     },
     "output_type": "display_data"
    }
   ],
   "source": [
    "plot,prediction = test_on_img(r'D:\\Test\\00500.png')\n",
    "s = [str(i) for i in prediction] \n",
    "a = int(\"\".join(s)) \n",
    "print(\"Predicted traffic sign is: \", classes[a])\n",
    "plt.imshow(plot)\n",
    "plt.show()"
   ]
  },
  {
   "cell_type": "code",
   "execution_count": 26,
   "metadata": {},
   "outputs": [
    {
     "name": "stdout",
     "output_type": "stream",
     "text": [
      "Predicted traffic sign is:  Slippery road\n"
     ]
    },
    {
     "data": {
      "image/png": "[encoded data removed]",
      "text/plain": [
       "<Figure size 432x288 with 1 Axes>"
      ]
     },
     "metadata": {
      "needs_background": "light"
     },
     "output_type": "display_data"
    }
   ],
   "source": [
    "plot,prediction = test_on_img(r'D:\\Test\\00501.png')\n",
    "s = [str(i) for i in prediction] \n",
    "a = int(\"\".join(s)) \n",
    "print(\"Predicted traffic sign is: \", classes[a])\n",
    "plt.imshow(plot)\n",
    "plt.show()"
   ]
  },
  {
   "cell_type": "code",
   "execution_count": 27,
   "metadata": {},
   "outputs": [
    {
     "name": "stdout",
     "output_type": "stream",
     "text": [
      "Predicted traffic sign is:  Priority road\n"
     ]
    },
    {
     "data": {
      "image/png": "[encoded data removed]",
      "text/plain": [
       "<Figure size 432x288 with 1 Axes>"
      ]
     },
     "metadata": {
      "needs_background": "light"
     },
     "output_type": "display_data"
    }
   ],
   "source": [
    "plot,prediction = test_on_img(r'D:\\Image Classification\\Test\\out02472.png')\n",
    "s = [str(i) for i in prediction] \n",
    "a = int(\"\".join(s)) \n",
    "print(\"Predicted traffic sign is: \", classes[a])\n",
    "plt.imshow(plot)\n",
    "plt.show()"
   ]
  },
  {
   "cell_type": "code",
   "execution_count": 28,
   "metadata": {},
   "outputs": [
    {
     "name": "stdout",
     "output_type": "stream",
     "text": [
      "              precision    recall  f1-score   support\n",
      "\n",
      "           0       0.94      1.00      0.97        60\n",
      "           1       0.98      0.99      0.98       720\n",
      "           2       0.99      0.99      0.99       750\n",
      "           3       0.93      0.95      0.94       450\n",
      "           4       1.00      0.97      0.98       660\n",
      "           5       0.93      0.96      0.94       630\n",
      "           6       0.98      0.83      0.90       150\n",
      "           7       0.99      0.97      0.98       450\n",
      "           8       0.96      0.97      0.96       450\n",
      "           9       0.95      0.99      0.97       480\n",
      "          10       0.98      0.98      0.98       660\n",
      "          11       0.97      0.95      0.96       420\n",
      "          12       0.99      0.96      0.98       690\n",
      "          13       1.00      0.99      1.00       720\n",
      "          14       1.00      0.99      0.99       270\n",
      "          15       0.96      1.00      0.98       210\n",
      "          16       1.00      0.99      1.00       150\n",
      "          17       1.00      0.97      0.98       360\n",
      "          18       0.93      0.82      0.87       390\n",
      "          19       0.92      1.00      0.96        60\n",
      "          20       0.77      0.99      0.87        90\n",
      "          21       0.99      0.88      0.93        90\n",
      "          22       0.98      0.94      0.96       120\n",
      "          23       0.87      0.99      0.93       150\n",
      "          24       0.91      0.94      0.93        90\n",
      "          25       0.97      0.98      0.98       480\n",
      "          26       0.89      0.88      0.89       180\n",
      "          27       0.57      0.50      0.53        60\n",
      "          28       0.97      0.99      0.98       150\n",
      "          29       0.93      0.91      0.92        90\n",
      "          30       0.87      0.73      0.79       150\n",
      "          31       0.96      0.97      0.97       270\n",
      "          32       0.79      0.97      0.87        60\n",
      "          33       0.94      1.00      0.97       210\n",
      "          34       0.98      0.99      0.99       120\n",
      "          35       0.99      0.99      0.99       390\n",
      "          36       0.98      0.99      0.98       120\n",
      "          37       1.00      1.00      1.00        60\n",
      "          38       0.98      0.99      0.99       690\n",
      "          39       0.97      0.99      0.98        90\n",
      "          40       0.69      0.90      0.78        90\n",
      "          41       0.91      0.72      0.80        60\n",
      "          42       0.93      1.00      0.96        90\n",
      "\n",
      "    accuracy                           0.96     12630\n",
      "   macro avg       0.94      0.94      0.94     12630\n",
      "weighted avg       0.96      0.96      0.96     12630\n",
      "\n"
     ]
    }
   ],
   "source": [
    "print(classification_report(label, Y_pred))"
   ]
  },
  {
   "cell_type": "code",
   "execution_count": null,
   "metadata": {},
   "outputs": [],
   "source": []
  }
 ],
 "metadata": {
  "kernelspec": {
   "display_name": "Python 3",
   "language": "python",
   "name": "python3"
  },
  "language_info": {
   "codemirror_mode": {
    "name": "ipython",
    "version": 3
   },
   "file_extension": ".py",
   "mimetype": "text/x-python",
   "name": "python",
   "nbconvert_exporter": "python",
   "pygments_lexer": "ipython3",
   "version": "3.8.3"
  }
 },
 "nbformat": 4,
 "nbformat_minor": 4
}
